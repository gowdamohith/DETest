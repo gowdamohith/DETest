{
 "cells": [
  {
   "cell_type": "code",
   "execution_count": 0,
   "metadata": {
    "application/vnd.databricks.v1+cell": {
     "cellMetadata": {
      "byteLimit": 2048000,
      "rowLimit": 10000
     },
     "inputWidgets": {},
     "nuid": "628b598a-03bc-4f34-ae09-3eab40bd424a",
     "showTitle": false,
     "tableResultSettingsMap": {},
     "title": ""
    }
   },
   "outputs": [],
   "source": [
    "from pyspark.sql import SparkSession"
   ]
  },
  {
   "cell_type": "code",
   "execution_count": 0,
   "metadata": {
    "application/vnd.databricks.v1+cell": {
     "cellMetadata": {
      "byteLimit": 2048000,
      "rowLimit": 10000
     },
     "inputWidgets": {},
     "nuid": "6cb27822-c28b-49df-8799-9ea490b6266a",
     "showTitle": false,
     "tableResultSettingsMap": {},
     "title": ""
    }
   },
   "outputs": [],
   "source": [
    "spark = SparkSession.builder.appName(\"CSVtoDelta\").getOrCreate()"
   ]
  },
  {
   "cell_type": "code",
   "execution_count": 0,
   "metadata": {
    "application/vnd.databricks.v1+cell": {
     "cellMetadata": {
      "byteLimit": 2048000,
      "rowLimit": 10000
     },
     "inputWidgets": {},
     "nuid": "56ba6ee1-0840-40a5-b293-8f0baf17df99",
     "showTitle": false,
     "tableResultSettingsMap": {},
     "title": ""
    }
   },
   "outputs": [
    {
     "output_type": "stream",
     "name": "stdout",
     "output_type": "stream",
     "text": [
      "Initial row count: 50\nRow count after dropping nulls: 50\nDelta table created successfully!\n"
     ]
    },
    {
     "output_type": "display_data",
     "data": {
      "text/html": [
       "<style scoped>\n",
       "  .table-result-container {\n",
       "    max-height: 300px;\n",
       "    overflow: auto;\n",
       "  }\n",
       "  table, th, td {\n",
       "    border: 1px solid black;\n",
       "    border-collapse: collapse;\n",
       "  }\n",
       "  th, td {\n",
       "    padding: 5px;\n",
       "  }\n",
       "  th {\n",
       "    text-align: left;\n",
       "  }\n",
       "</style><div class='table-result-container'><table class='table-result'><thead style='background-color: white'><tr><th>EMPLOYEE_ID</th><th>FIRST_NAME</th><th>LAST_NAME</th><th>EMAIL</th><th>PHONE_NUMBER</th><th>HIRE_DATE</th><th>JOB_ID</th><th>SALARY</th><th>COMMISSION_PCT</th><th>MANAGER_ID</th><th>DEPARTMENT_ID</th></tr></thead><tbody><tr><td>198</td><td>Donald</td><td>OConnell</td><td>DOCONNEL</td><td>650.507.9833</td><td>21-JUN-07</td><td>SH_CLERK</td><td>2600</td><td> - </td><td>124</td><td>50</td></tr><tr><td>199</td><td>Douglas</td><td>Grant</td><td>DGRANT</td><td>650.507.9844</td><td>13-JAN-08</td><td>SH_CLERK</td><td>2600</td><td> - </td><td>124</td><td>50</td></tr><tr><td>200</td><td>Jennifer</td><td>Whalen</td><td>JWHALEN</td><td>515.123.4444</td><td>17-SEP-03</td><td>AD_ASST</td><td>4400</td><td> - </td><td>101</td><td>10</td></tr><tr><td>201</td><td>Michael</td><td>Hartstein</td><td>MHARTSTE</td><td>515.123.5555</td><td>17-FEB-04</td><td>MK_MAN</td><td>13000</td><td> - </td><td>100</td><td>20</td></tr><tr><td>202</td><td>Pat</td><td>Fay</td><td>PFAY</td><td>603.123.6666</td><td>17-AUG-05</td><td>MK_REP</td><td>6000</td><td> - </td><td>201</td><td>20</td></tr><tr><td>203</td><td>Susan</td><td>Mavris</td><td>SMAVRIS</td><td>515.123.7777</td><td>07-JUN-02</td><td>HR_REP</td><td>6500</td><td> - </td><td>101</td><td>40</td></tr><tr><td>204</td><td>Hermann</td><td>Baer</td><td>HBAER</td><td>515.123.8888</td><td>07-JUN-02</td><td>PR_REP</td><td>10000</td><td> - </td><td>101</td><td>70</td></tr><tr><td>205</td><td>Shelley</td><td>Higgins</td><td>SHIGGINS</td><td>515.123.8080</td><td>07-JUN-02</td><td>AC_MGR</td><td>12008</td><td> - </td><td>101</td><td>110</td></tr><tr><td>206</td><td>William</td><td>Gietz</td><td>WGIETZ</td><td>515.123.8181</td><td>07-JUN-02</td><td>AC_ACCOUNT</td><td>8300</td><td> - </td><td>205</td><td>110</td></tr><tr><td>100</td><td>Steven</td><td>King</td><td>SKING</td><td>515.123.4567</td><td>17-JUN-03</td><td>AD_PRES</td><td>24000</td><td> - </td><td> - </td><td>90</td></tr></tbody></table></div>"
      ]
     },
     "metadata": {
      "application/vnd.databricks.v1+output": {
       "addedWidgets": {},
       "aggData": [],
       "aggError": "",
       "aggOverflow": false,
       "aggSchema": [],
       "aggSeriesLimitReached": false,
       "aggType": "",
       "arguments": {},
       "columnCustomDisplayInfos": {},
       "data": [
        [
         198,
         "Donald",
         "OConnell",
         "DOCONNEL",
         "650.507.9833",
         "21-JUN-07",
         "SH_CLERK",
         2600,
         " - ",
         "124",
         50
        ],
        [
         199,
         "Douglas",
         "Grant",
         "DGRANT",
         "650.507.9844",
         "13-JAN-08",
         "SH_CLERK",
         2600,
         " - ",
         "124",
         50
        ],
        [
         200,
         "Jennifer",
         "Whalen",
         "JWHALEN",
         "515.123.4444",
         "17-SEP-03",
         "AD_ASST",
         4400,
         " - ",
         "101",
         10
        ],
        [
         201,
         "Michael",
         "Hartstein",
         "MHARTSTE",
         "515.123.5555",
         "17-FEB-04",
         "MK_MAN",
         13000,
         " - ",
         "100",
         20
        ],
        [
         202,
         "Pat",
         "Fay",
         "PFAY",
         "603.123.6666",
         "17-AUG-05",
         "MK_REP",
         6000,
         " - ",
         "201",
         20
        ],
        [
         203,
         "Susan",
         "Mavris",
         "SMAVRIS",
         "515.123.7777",
         "07-JUN-02",
         "HR_REP",
         6500,
         " - ",
         "101",
         40
        ],
        [
         204,
         "Hermann",
         "Baer",
         "HBAER",
         "515.123.8888",
         "07-JUN-02",
         "PR_REP",
         10000,
         " - ",
         "101",
         70
        ],
        [
         205,
         "Shelley",
         "Higgins",
         "SHIGGINS",
         "515.123.8080",
         "07-JUN-02",
         "AC_MGR",
         12008,
         " - ",
         "101",
         110
        ],
        [
         206,
         "William",
         "Gietz",
         "WGIETZ",
         "515.123.8181",
         "07-JUN-02",
         "AC_ACCOUNT",
         8300,
         " - ",
         "205",
         110
        ],
        [
         100,
         "Steven",
         "King",
         "SKING",
         "515.123.4567",
         "17-JUN-03",
         "AD_PRES",
         24000,
         " - ",
         " - ",
         90
        ]
       ],
       "datasetInfos": [],
       "dbfsResultPath": null,
       "isJsonSchema": true,
       "metadata": {},
       "overflow": false,
       "plotOptions": {
        "customPlotOptions": {},
        "displayType": "table",
        "pivotAggregation": null,
        "pivotColumns": null,
        "xColumns": null,
        "yColumns": null
       },
       "removedWidgets": [],
       "schema": [
        {
         "metadata": "{}",
         "name": "EMPLOYEE_ID",
         "type": "\"integer\""
        },
        {
         "metadata": "{}",
         "name": "FIRST_NAME",
         "type": "\"string\""
        },
        {
         "metadata": "{}",
         "name": "LAST_NAME",
         "type": "\"string\""
        },
        {
         "metadata": "{}",
         "name": "EMAIL",
         "type": "\"string\""
        },
        {
         "metadata": "{}",
         "name": "PHONE_NUMBER",
         "type": "\"string\""
        },
        {
         "metadata": "{}",
         "name": "HIRE_DATE",
         "type": "\"string\""
        },
        {
         "metadata": "{}",
         "name": "JOB_ID",
         "type": "\"string\""
        },
        {
         "metadata": "{}",
         "name": "SALARY",
         "type": "\"integer\""
        },
        {
         "metadata": "{}",
         "name": "COMMISSION_PCT",
         "type": "\"string\""
        },
        {
         "metadata": "{}",
         "name": "MANAGER_ID",
         "type": "\"string\""
        },
        {
         "metadata": "{}",
         "name": "DEPARTMENT_ID",
         "type": "\"integer\""
        }
       ],
       "type": "table"
      }
     },
     "output_type": "display_data"
    },
    {
     "output_type": "display_data",
     "data": {
      "text/html": [
       "<style scoped>\n",
       "  .table-result-container {\n",
       "    max-height: 300px;\n",
       "    overflow: auto;\n",
       "  }\n",
       "  table, th, td {\n",
       "    border: 1px solid black;\n",
       "    border-collapse: collapse;\n",
       "  }\n",
       "  th, td {\n",
       "    padding: 5px;\n",
       "  }\n",
       "  th {\n",
       "    text-align: left;\n",
       "  }\n",
       "</style><div class='table-result-container'><table class='table-result'><thead style='background-color: white'><tr><th>EMPLOYEE_ID</th><th>FIRST_NAME</th><th>LAST_NAME</th><th>EMAIL</th><th>PHONE_NUMBER</th><th>HIRE_DATE</th><th>JOB_ID</th><th>SALARY</th><th>COMMISSION_PCT</th><th>MANAGER_ID</th><th>DEPARTMENT_ID</th></tr></thead><tbody><tr><td>198</td><td>Donald</td><td>OConnell</td><td>DOCONNEL</td><td>650.507.9833</td><td>21-JUN-07</td><td>SH_CLERK</td><td>2600</td><td> - </td><td>124</td><td>50</td></tr><tr><td>199</td><td>Douglas</td><td>Grant</td><td>DGRANT</td><td>650.507.9844</td><td>13-JAN-08</td><td>SH_CLERK</td><td>2600</td><td> - </td><td>124</td><td>50</td></tr><tr><td>200</td><td>Jennifer</td><td>Whalen</td><td>JWHALEN</td><td>515.123.4444</td><td>17-SEP-03</td><td>AD_ASST</td><td>4400</td><td> - </td><td>101</td><td>10</td></tr><tr><td>201</td><td>Michael</td><td>Hartstein</td><td>MHARTSTE</td><td>515.123.5555</td><td>17-FEB-04</td><td>MK_MAN</td><td>13000</td><td> - </td><td>100</td><td>20</td></tr><tr><td>202</td><td>Pat</td><td>Fay</td><td>PFAY</td><td>603.123.6666</td><td>17-AUG-05</td><td>MK_REP</td><td>6000</td><td> - </td><td>201</td><td>20</td></tr></tbody></table></div>"
      ]
     },
     "metadata": {
      "application/vnd.databricks.v1+output": {
       "addedWidgets": {},
       "aggData": [],
       "aggError": "",
       "aggOverflow": false,
       "aggSchema": [],
       "aggSeriesLimitReached": false,
       "aggType": "",
       "arguments": {},
       "columnCustomDisplayInfos": {},
       "data": [
        [
         198,
         "Donald",
         "OConnell",
         "DOCONNEL",
         "650.507.9833",
         "21-JUN-07",
         "SH_CLERK",
         2600,
         " - ",
         "124",
         50
        ],
        [
         199,
         "Douglas",
         "Grant",
         "DGRANT",
         "650.507.9844",
         "13-JAN-08",
         "SH_CLERK",
         2600,
         " - ",
         "124",
         50
        ],
        [
         200,
         "Jennifer",
         "Whalen",
         "JWHALEN",
         "515.123.4444",
         "17-SEP-03",
         "AD_ASST",
         4400,
         " - ",
         "101",
         10
        ],
        [
         201,
         "Michael",
         "Hartstein",
         "MHARTSTE",
         "515.123.5555",
         "17-FEB-04",
         "MK_MAN",
         13000,
         " - ",
         "100",
         20
        ],
        [
         202,
         "Pat",
         "Fay",
         "PFAY",
         "603.123.6666",
         "17-AUG-05",
         "MK_REP",
         6000,
         " - ",
         "201",
         20
        ]
       ],
       "datasetInfos": [],
       "dbfsResultPath": null,
       "isJsonSchema": true,
       "metadata": {},
       "overflow": false,
       "plotOptions": {
        "customPlotOptions": {},
        "displayType": "table",
        "pivotAggregation": null,
        "pivotColumns": null,
        "xColumns": null,
        "yColumns": null
       },
       "removedWidgets": [],
       "schema": [
        {
         "metadata": "{}",
         "name": "EMPLOYEE_ID",
         "type": "\"integer\""
        },
        {
         "metadata": "{}",
         "name": "FIRST_NAME",
         "type": "\"string\""
        },
        {
         "metadata": "{}",
         "name": "LAST_NAME",
         "type": "\"string\""
        },
        {
         "metadata": "{}",
         "name": "EMAIL",
         "type": "\"string\""
        },
        {
         "metadata": "{}",
         "name": "PHONE_NUMBER",
         "type": "\"string\""
        },
        {
         "metadata": "{}",
         "name": "HIRE_DATE",
         "type": "\"string\""
        },
        {
         "metadata": "{}",
         "name": "JOB_ID",
         "type": "\"string\""
        },
        {
         "metadata": "{}",
         "name": "SALARY",
         "type": "\"integer\""
        },
        {
         "metadata": "{}",
         "name": "COMMISSION_PCT",
         "type": "\"string\""
        },
        {
         "metadata": "{}",
         "name": "MANAGER_ID",
         "type": "\"string\""
        },
        {
         "metadata": "{}",
         "name": "DEPARTMENT_ID",
         "type": "\"integer\""
        }
       ],
       "type": "table"
      }
     },
     "output_type": "display_data"
    },
    {
     "output_type": "stream",
     "name": "stdout",
     "output_type": "stream",
     "text": [
      "root\n |-- EMPLOYEE_ID: integer (nullable = true)\n |-- FIRST_NAME: string (nullable = true)\n |-- LAST_NAME: string (nullable = true)\n |-- EMAIL: string (nullable = true)\n |-- PHONE_NUMBER: string (nullable = true)\n |-- HIRE_DATE: string (nullable = true)\n |-- JOB_ID: string (nullable = true)\n |-- SALARY: integer (nullable = true)\n |-- COMMISSION_PCT: string (nullable = true)\n |-- MANAGER_ID: string (nullable = true)\n |-- DEPARTMENT_ID: integer (nullable = true)\n\n"
     ]
    }
   ],
   "source": [
    "try:\n",
    "    # 1. Read the CSV file\n",
    "    # Replace with your actual CSV file path\n",
    "    input_path = \"dbfs:/FileStore/tables/employees.csv\"\n",
    "    df = spark.read.option(\"header\", \"true\") \\\n",
    "                  .option(\"inferSchema\", \"true\") \\\n",
    "                  .csv(input_path)\n",
    "    \n",
    "    # Show initial row count\n",
    "    print(f\"Initial row count: {df.count()}\")\n",
    "    \n",
    "    # 2. Drop rows with any null values\n",
    "    df_cleaned = df.na.drop()\n",
    "    \n",
    "    # Show cleaned row count\n",
    "    print(f\"Row count after dropping nulls: {df_cleaned.count()}\")\n",
    "    \n",
    "    # 3. Save as Delta table\n",
    "    # Replace with your desired output path and table name\n",
    "    output_path = \"dbfs:/delta/employees_table\"\n",
    "    table_name = \"employees_table\"\n",
    "    \n",
    "    df_cleaned.write.format(\"delta\") \\\n",
    "                   .mode(\"overwrite\") \\\n",
    "                   .save(output_path)\n",
    "    \n",
    "    # 4. Register the Delta table for SQL queries\n",
    "    spark.sql(f\"CREATE TABLE IF NOT EXISTS {table_name} USING DELTA LOCATION '{output_path}'\")\n",
    "    \n",
    "    # 5. Verify the table creation\n",
    "    print(\"Delta table created successfully!\")\n",
    "    display(df_cleaned.limit(10))  # Show first 10 rows\n",
    "    \n",
    "    # Optional: Run a SQL query\n",
    "    result = spark.sql(f\"SELECT * FROM {table_name} LIMIT 5\")\n",
    "    display(result)\n",
    "    \n",
    "except Exception as e:\n",
    "    print(f\"An error occurred: {str(e)}\")\n",
    "\n",
    "# Optional: Show table schema\n",
    "df_cleaned.printSchema()"
   ]
  }
 ],
 "metadata": {
  "application/vnd.databricks.v1+notebook": {
   "computePreferences": null,
   "dashboards": [],
   "environmentMetadata": {
    "base_environment": "",
    "environment_version": "1"
   },
   "inputWidgetPreferences": null,
   "language": "python",
   "notebookMetadata": {
    "pythonIndentUnit": 4
   },
   "notebookName": "DEtest_mohithgowda",
   "widgets": {}
  }
 },
 "nbformat": 4,
 "nbformat_minor": 0
}